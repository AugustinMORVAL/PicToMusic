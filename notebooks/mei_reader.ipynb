{
 "cells": [
  {
   "cell_type": "code",
   "execution_count": 128,
   "metadata": {},
   "outputs": [],
   "source": [
    "import numpy as np\n",
    "import re"
   ]
  },
  {
   "cell_type": "code",
   "execution_count": 129,
   "metadata": {},
   "outputs": [],
   "source": [
    "def read_file(file_name):\n",
    "    with open(file_name, 'r') as f:\n",
    "        return f.read()"
   ]
  },
  {
   "cell_type": "code",
   "execution_count": 130,
   "metadata": {},
   "outputs": [],
   "source": [
    "file_content = read_file('test.mei')\n",
    "\n",
    "def find_measure(file_content):\n",
    "    measures = re.findall(r'<measure[\\s\\S]*?measure>', file_content)\n",
    "    return measures\n",
    "\n",
    "measures = find_measure(file_content)"
   ]
  },
  {
   "cell_type": "code",
   "execution_count": 161,
   "metadata": {},
   "outputs": [
    {
     "name": "stdout",
     "output_type": "stream",
     "text": [
      "bbbbbbb <multiRest xml:id=\"multirest-0000000266443102\" num=\"23\" />\n",
      "bbbbbbb <rest xml:id=\"rest-0000000866234707\" dur=\"4\" />\n",
      "bbbbbbb <rest xml:id=\"rest-0000001015077536\" dur=\"8\" />\n",
      "bbbbbbb <note xml:id=\"note-0000000798055784\" dur=\"8\" oct=\"4\" pname=\"b\" />\n",
      "bbbbbbb <note xml:id=\"note-0000000071140080\" dots=\"1\" dur=\"4\" oct=\"4\" pname=\"b\" />\n",
      "bbbbbbb <note xml:id=\"note-0000001650416828\" dur=\"8\" oct=\"4\" pname=\"g\" />\n",
      "bbbbbbb <note xml:id=\"note-0000000428769533\" dots=\"1\" dur=\"4\" oct=\"5\" pname=\"e\" />\n",
      "bbbbbbb <note xml:id=\"note-0000001521905446\" dur=\"8\" oct=\"5\" pname=\"d\" />\n",
      "bbbbbbb <note xml:id=\"note-0000000841346155\" dur=\"8\" oct=\"5\" pname=\"c\" />\n",
      "bbbbbbb <note xml:id=\"note-0000001472495237\" dur=\"8\" oct=\"5\" pname=\"c\" />\n",
      "bbbbbbb <rest xml:id=\"rest-0000000625900231\" dur=\"4\" />\n"
     ]
    },
    {
     "data": {
      "text/plain": [
       "{0: ['Z23'],\n",
       " 1: ['z4', 'z2', 'b,2'],\n",
       " 2: ['b,6', 'g,2'],\n",
       " 3: ['e6', 'd2'],\n",
       " 4: ['c2', 'c2', 'z4']}"
      ]
     },
     "execution_count": 161,
     "metadata": {},
     "output_type": "execute_result"
    }
   ],
   "source": [
    "def extract_measure_content(measure):\n",
    "    content = re.findall(r'<note.*?/>|<rest.*?/>|<multiRest.*?/>', measure)\n",
    "    return content\n",
    "\n",
    "measures_content = {}\n",
    "\n",
    "octaves = {0:',,,,,', 1:',,,,', 2:',,,', 3:',,', 4:',', 5:'', 6:\"'\", 7:\"''\"}\n",
    "duration_mapping = {16:1, 8:2, 4:4, 2:8, 1:16}\n",
    "\n",
    "for i, measure in enumerate(measures):\n",
    "    measure_content = extract_measure_content(measure)\n",
    "    measure_notes = []\n",
    "    for j, symbol in enumerate(measure_content):\n",
    "        print('bbbbbbb', symbol)\n",
    "        if symbol.startswith('<note'):\n",
    "            value = re.findall(r'pname=\"([^\"]*)\"', symbol)[0]\n",
    "            octave = octaves[int(re.findall(r'oct=\"([^\"]*)\"', symbol)[0])]\n",
    "            duration = duration_mapping[int(re.findall(r'dur=\"([^\"]*)\"', symbol)[0])]\n",
    "            dot = re.findall(r'dots=\"([^\"]*)\"', symbol)\n",
    "            if dot:\n",
    "                duration = f'{int(duration*1.5)}'\n",
    "            note = f'{value}{octave}{duration}'\n",
    "            measure_notes.append(note)\n",
    "        \n",
    "        if symbol.startswith('<rest'):\n",
    "            duration = duration_mapping[int(re.findall(r'dur=\"([^\"]*)\"', symbol)[0])]\n",
    "            rest = f'z{duration}'\n",
    "            measure_notes.append(rest)\n",
    "\n",
    "        if symbol.startswith('<multiRest'):\n",
    "            duration = re.findall(r'num=\"([^\"]*)\"', symbol)[0]\n",
    "            rest = f'Z{duration}'\n",
    "            measure_notes.append(rest)\n",
    "            \n",
    "    measures_content[i] = measure_notes\n",
    "\n",
    "measures_content\n"
   ]
  },
  {
   "cell_type": "code",
   "execution_count": 164,
   "metadata": {},
   "outputs": [
    {
     "name": "stdout",
     "output_type": "stream",
     "text": [
      "{'key': 'Eb', 'meter_count': 2, 'meter_unit': 4, 'clef': 'C1'}\n"
     ]
    }
   ],
   "source": [
    "gammes = {'0':'C', '1s':'G', '2s':'D', '3s':'A', '4s':'E', '5s':'B', '6s':'F#', '7s':'C#', '1f':'F', '2f':'Bb', '3f':'Eb', '4f':'Ab', '5f':'Db', '6f':'Gb', '7f':'Cb'}\n",
    "\n",
    "def find_score_def(file_content):\n",
    "    score_def = re.findall(r'<scoreDef[\\s\\S]*?scoreDef>', file_content)\n",
    "    key =  re.findall(r'key.sig=\"([^\"]*)\"', score_def[0])\n",
    "    meter_count = re.findall(r'meter.count=\"([^\"]*)\"', score_def[0])\n",
    "    meter_unit = re.findall(r'meter.unit=\"([^\"]*)\"', score_def[0])\n",
    "    staff_def = re.findall(r'<staffDef.*?/>', score_def[0])[0]\n",
    "    if staff_def:\n",
    "        clef_shape = re.findall(r'clef.shape=\"([^\"]*)\"', staff_def)[0]\n",
    "        clef_line = re.findall(r'clef.line=\"([^\"]*)\"', staff_def)[0]\n",
    "    else:\n",
    "        clef_shape = ''\n",
    "        clef_line = ''\n",
    "\n",
    "    score_def = {'key': gammes[key[0]], 'meter_count': int(meter_count[0]), 'meter_unit': int(meter_unit[0]), 'clef': clef_shape+clef_line}\n",
    "    return score_def\n",
    "\n",
    "score_def = find_score_def(file_content)\n",
    "print(score_def)"
   ]
  },
  {
   "cell_type": "code",
   "execution_count": 165,
   "metadata": {},
   "outputs": [
    {
     "name": "stdout",
     "output_type": "stream",
     "text": [
      "X:1\n",
      "M:2/4\n",
      "K:Eb\n",
      "L:1/16\n",
      "K: clef=C1\n",
      " Z23 | z4 z2 b,2 | b,6 g,2 | e6 d2 | c2 c2 z4 |]\n"
     ]
    }
   ],
   "source": [
    "def mei_to_abc(measures_content, score_def):\n",
    "    abc_content = ''\n",
    "    abc_content += f'X:1\\n'\n",
    "    abc_content += f'M:{score_def[\"meter_count\"]}/{score_def[\"meter_unit\"]}\\n'\n",
    "    abc_content += f'K:{score_def[\"key\"]}\\n'\n",
    "    abc_content += f'L:1/16\\n'\n",
    "    abc_content += f'K: clef={score_def[\"clef\"]}\\n'\n",
    "    for i in range (len(measures_content)):\n",
    "        measure = measures_content[i]\n",
    "        for note in measure:\n",
    "            abc_content += f' {note}'\n",
    "        abc_content += ' |'\n",
    "    abc_content += f']'\n",
    "    return abc_content\n",
    "abc_content = mei_to_abc(measures_content, score_def)\n",
    "print(abc_content)"
   ]
  },
  {
   "cell_type": "code",
   "execution_count": null,
   "metadata": {},
   "outputs": [],
   "source": []
  }
 ],
 "metadata": {
  "kernelspec": {
   "display_name": "PicToMusic",
   "language": "python",
   "name": "python3"
  },
  "language_info": {
   "codemirror_mode": {
    "name": "ipython",
    "version": 3
   },
   "file_extension": ".py",
   "mimetype": "text/x-python",
   "name": "python",
   "nbconvert_exporter": "python",
   "pygments_lexer": "ipython3",
   "version": "3.10.12"
  }
 },
 "nbformat": 4,
 "nbformat_minor": 2
}
