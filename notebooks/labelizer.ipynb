{
 "cells": [
  {
   "cell_type": "code",
   "execution_count": 1,
   "metadata": {},
   "outputs": [],
   "source": [
    "from zipfile import ZipFile\n",
    "from ultralytics import YOLO\n",
    "from p2m.mei2abc import MEIConverter"
   ]
  },
  {
   "cell_type": "code",
   "execution_count": 2,
   "metadata": {},
   "outputs": [],
   "source": [
    "model = YOLO(\"../best.pt\")"
   ]
  },
  {
   "cell_type": "code",
   "execution_count": 3,
   "metadata": {},
   "outputs": [
    {
     "name": "stdout",
     "output_type": "stream",
     "text": [
      "\n",
      "image 1/1 /home/mathieujayet/code/matjayet/PicToMusic/notebooks/../resources/samples/000051652-1_2_1.png: 96x640 1 clef, 1 gamme, 1 metrics, 8 notes, 4 pauses, 427.3ms\n",
      "Speed: 1.4ms preprocess, 427.3ms inference, 1.8ms postprocess per image at shape (1, 3, 96, 640)\n"
     ]
    }
   ],
   "source": [
    "results = model(\"../resources/samples/000051652-1_2_1.png\")"
   ]
  },
  {
   "cell_type": "code",
   "execution_count": 4,
   "metadata": {},
   "outputs": [],
   "source": [
    "for result in results:\n",
    "    xywh = result.boxes.xywh  # center-x, center-y, width, height\n",
    "    xywhn = result.boxes.xywhn  # normalized\n",
    "    xyxy = result.boxes.xyxy  # top-left-x, top-left-y, bottom-right-x, bottom-right-y\n",
    "    xyxyn = result.boxes.xyxyn  # normalized\n",
    "    names = [result.names[cls.item()] for cls in result.boxes.cls.int()]  # class name of each box\n",
    "    confs = result.boxes.conf  # confidence score of each box"
   ]
  },
  {
   "cell_type": "code",
   "execution_count": 5,
   "metadata": {},
   "outputs": [],
   "source": [
    "for result in results:\n",
    "    boxes = result.boxes  # Boxes object for bounding box outputs\n",
    "    masks = result.masks  # Masks object for segmentation masks outputs\n",
    "    keypoints = result.keypoints  # Keypoints object for pose outputs\n",
    "    probs = result.probs  # Probs object for classification outputs\n",
    "    obb = result.obb  # Oriented boxes object for OBB outputs\n",
    "    result.show()  # display to screen\n"
   ]
  },
  {
   "cell_type": "code",
   "execution_count": 6,
   "metadata": {},
   "outputs": [
    {
     "name": "stdout",
     "output_type": "stream",
     "text": [
      "torch.Size([15, 4])\n"
     ]
    }
   ],
   "source": [
    "print(xywh.shape)"
   ]
  },
  {
   "cell_type": "code",
   "execution_count": 7,
   "metadata": {},
   "outputs": [],
   "source": [
    "test_mei = MEIConverter(\"../resources/samples/000051652-1_2_1.mei\")"
   ]
  },
  {
   "cell_type": "code",
   "execution_count": 8,
   "metadata": {},
   "outputs": [
    {
     "name": "stdout",
     "output_type": "stream",
     "text": [
      "X:1\n",
      "M:2/4\n",
      "K:Eb\n",
      "L:1/16\n",
      "K: clef=C1\n",
      "Z23 |z4 z2 b,2 |b,6 g,2 |e6 d2 |c2 c2 z4 |]\n"
     ]
    }
   ],
   "source": [
    "print(test_mei.mei_to_abc())"
   ]
  },
  {
   "cell_type": "code",
   "execution_count": 14,
   "metadata": {},
   "outputs": [
    {
     "data": {
      "text/plain": [
       "array(['clef', 'gamme', 'metrics', 'note', 'pause'], dtype='<U7')"
      ]
     },
     "execution_count": 14,
     "metadata": {},
     "output_type": "execute_result"
    }
   ],
   "source": [
    "import numpy as np\n",
    "un = np.unique_counts(names)\n",
    "un.values\n"
   ]
  },
  {
   "cell_type": "code",
   "execution_count": 10,
   "metadata": {},
   "outputs": [
    {
     "name": "stdout",
     "output_type": "stream",
     "text": [
      "['pause', 'note', 'note', 'note', 'note', 'note', 'note', 'note', 'clef', 'pause', 'metrics', 'pause', 'pause', 'gamme', 'note']\n"
     ]
    }
   ],
   "source": [
    "print(names)"
   ]
  },
  {
   "cell_type": "code",
   "execution_count": null,
   "metadata": {},
   "outputs": [],
   "source": [
    "def compare_mei_to_parser(file_name : str):\n",
    "    mei = MEIConverter(file_name +'.mei')\n",
    "    mei_abc = mei.mei_to_abc()\n",
    "    mei_key, mei_gamme = mei.score_def[\"key\"], mei.score_def[\"clef\"]\n",
    "    mei_metrics = None if mei.score_def['meter_count'] == '' else str(mei.score_def['meter_count']) + '/' + str(mei.score_def['meter_unit'])\n",
    "\n",
    "    print(mei.notes_count, mei.pause_count, mei.score_def)\n",
    "\n",
    "    result = model(file_name +'.png')[0]\n",
    "    names = [result.names[cls.item()] for cls in result.boxes.cls.int()]\n",
    "    unique_names, counts = np.unique(names, return_counts=True)\n",
    "\n",
    "    # Convertir en dictionnaire pour un accès plus simple\n",
    "    count_names = dict(zip(unique_names, counts))\n",
    "\n",
    "\n",
    "    assert count_names['note'] == mei.notes_count\n",
    "    assert count_names['pause'] == mei.pause_count\n",
    "\n",
    "    # Accéder au nombre d'occurrences de \"note\"\n",
    "    xywhn = result.boxes.xywhn  # normalized"
   ]
  },
  {
   "cell_type": "code",
   "execution_count": 44,
   "metadata": {},
   "outputs": [
    {
     "name": "stdout",
     "output_type": "stream",
     "text": [
      "7 4 {'key': 'Eb', 'meter_count': 2, 'meter_unit': 4, 'clef': 'C1'}\n",
      "\n",
      "image 1/1 /home/mathieujayet/code/matjayet/PicToMusic/notebooks/../resources/samples/000051652-1_2_1.png: 96x640 1 clef, 1 gamme, 1 metrics, 8 notes, 4 pauses, 544.3ms\n",
      "Speed: 3.4ms preprocess, 544.3ms inference, 1.0ms postprocess per image at shape (1, 3, 96, 640)\n",
      "0\n"
     ]
    },
    {
     "ename": "AssertionError",
     "evalue": "",
     "output_type": "error",
     "traceback": [
      "\u001b[0;31m---------------------------------------------------------------------------\u001b[0m",
      "\u001b[0;31mAssertionError\u001b[0m                            Traceback (most recent call last)",
      "Cell \u001b[0;32mIn[44], line 1\u001b[0m\n\u001b[0;32m----> 1\u001b[0m \u001b[43mcompare_mei_to_parser\u001b[49m\u001b[43m(\u001b[49m\u001b[38;5;124;43m\"\u001b[39;49m\u001b[38;5;124;43m../resources/samples/000051652-1_2_1\u001b[39;49m\u001b[38;5;124;43m\"\u001b[39;49m\u001b[43m)\u001b[49m\n",
      "Cell \u001b[0;32mIn[43], line 19\u001b[0m, in \u001b[0;36mcompare_mei_to_parser\u001b[0;34m(file_name)\u001b[0m\n\u001b[1;32m     17\u001b[0m     \u001b[38;5;28mprint\u001b[39m(\u001b[38;5;124m'\u001b[39m\u001b[38;5;124maaaaaaa\u001b[39m\u001b[38;5;124m'\u001b[39m)\n\u001b[1;32m     18\u001b[0m \u001b[38;5;28mprint\u001b[39m(\u001b[38;5;28mlen\u001b[39m(\u001b[38;5;124m'\u001b[39m\u001b[38;5;124m'\u001b[39m))\n\u001b[0;32m---> 19\u001b[0m \u001b[38;5;28;01massert\u001b[39;00m count_names[\u001b[38;5;124m'\u001b[39m\u001b[38;5;124mnote\u001b[39m\u001b[38;5;124m'\u001b[39m] \u001b[38;5;241m==\u001b[39m mei\u001b[38;5;241m.\u001b[39mnotes_count\n\u001b[1;32m     20\u001b[0m \u001b[38;5;28;01massert\u001b[39;00m count_names[\u001b[38;5;124m'\u001b[39m\u001b[38;5;124mpause\u001b[39m\u001b[38;5;124m'\u001b[39m] \u001b[38;5;241m==\u001b[39m mei\u001b[38;5;241m.\u001b[39mpause_count\n\u001b[1;32m     22\u001b[0m \u001b[38;5;66;03m# Accéder au nombre d'occurrences de \"note\"\u001b[39;00m\n",
      "\u001b[0;31mAssertionError\u001b[0m: "
     ]
    }
   ],
   "source": [
    "compare_mei_to_parser(\"../resources/samples/000051652-1_2_1\")"
   ]
  },
  {
   "cell_type": "code",
   "execution_count": null,
   "metadata": {},
   "outputs": [],
   "source": []
  }
 ],
 "metadata": {
  "kernelspec": {
   "display_name": "PicToMusic",
   "language": "python",
   "name": "python3"
  },
  "language_info": {
   "codemirror_mode": {
    "name": "ipython",
    "version": 3
   },
   "file_extension": ".py",
   "mimetype": "text/x-python",
   "name": "python",
   "nbconvert_exporter": "python",
   "pygments_lexer": "ipython3",
   "version": "3.10.12"
  }
 },
 "nbformat": 4,
 "nbformat_minor": 2
}
