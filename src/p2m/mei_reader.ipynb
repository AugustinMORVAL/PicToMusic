{
 "cells": [
  {
   "cell_type": "code",
   "execution_count": 108,
   "metadata": {},
   "outputs": [],
   "source": [
    "import numpy as np\n",
    "import re"
   ]
  },
  {
   "cell_type": "code",
   "execution_count": 109,
   "metadata": {},
   "outputs": [],
   "source": [
    "def read_file(file_name):\n",
    "    with open(file_name, 'r') as f:\n",
    "        return f.read()"
   ]
  },
  {
   "cell_type": "code",
   "execution_count": 110,
   "metadata": {},
   "outputs": [],
   "source": [
    "file_content = read_file('test.mei')\n",
    "\n",
    "def find_measures(file_content):\n",
    "    measures = re.findall(r'<measure[\\s\\S]*?measure>', file_content)\n",
    "    return measures\n",
    "\n",
    "measures = find_measures(file_content)"
   ]
  },
  {
   "cell_type": "code",
   "execution_count": 111,
   "metadata": {},
   "outputs": [],
   "source": [
    "def extract_measure_content(measure):\n",
    "    content = re.findall(r'<beam[\\s\\S]*?beam>|<note.*?/>|<note.[\\s\\S]*?note>|<rest.*?/>|<multiRest.*?/>', measure)\n",
    "    return content"
   ]
  },
  {
   "cell_type": "code",
   "execution_count": 112,
   "metadata": {},
   "outputs": [],
   "source": [
    "octaves = {0: ',,,,,', 1: ',,,,', 2: ',,,', 3: ',,', 4: ',', 5: '', 6: \"'\", 7: \"''\"}\n",
    "duration_mapping = {32: '/', 16: 1, 8: 2, 4: 4, 2: 8, 1: 16}\n",
    "accid_map = {'s': '^', 'f': '_', 'n': '='}"
   ]
  },
  {
   "cell_type": "code",
   "execution_count": 113,
   "metadata": {},
   "outputs": [],
   "source": [
    "def parse_note(note):\n",
    "        \"\"\"Extracts and formats a note from XML.\"\"\"\n",
    "        value = re.search(r'pname=\"([^\"]*)\"', note).group(1)\n",
    "        octave = octaves[int(re.search(r'oct=\"([^\"]*)\"', note).group(1))]\n",
    "        duration = duration_mapping[int(re.search(r'dur=\"([^\"]*)\"', note).group(1))]\n",
    "        \n",
    "        # Handle dotted notes\n",
    "        if 'dots=\"' in note:\n",
    "            duration = f'{int(duration * 1.5)}'\n",
    "        \n",
    "        # Handle sharps and flats\n",
    "        accid_match = re.search(r'accid=\"([^\"]*)\"', note)\n",
    "        if accid_match:\n",
    "            value = f\"{accid_map.get(accid_match.group(1), '')}{value}\"\n",
    "        \n",
    "        return f\"{value}{octave}{duration}\""
   ]
  },
  {
   "cell_type": "code",
   "execution_count": 114,
   "metadata": {},
   "outputs": [],
   "source": [
    "def get_measures_labels(measures): \n",
    "    measures_content = {}\n",
    "\n",
    "    for i, measure in enumerate(measures):\n",
    "        measure_notes = []\n",
    "\n",
    "        measure_content = extract_measure_content(measure)\n",
    "\n",
    "        for symbol in measure_content:\n",
    "            if symbol.startswith('<beam'):\n",
    "                beam_notes = re.findall(r'<note.[\\s\\S]*?note>|<note.*?/>', symbol)\n",
    "                measure_notes.append(''.join(parse_note(n) for n in beam_notes))\n",
    "\n",
    "            elif symbol.startswith('<note'):\n",
    "                measure_notes.append(parse_note(symbol))\n",
    "\n",
    "            elif symbol.startswith('<rest'):\n",
    "                duration = duration_mapping[int(re.search(r'dur=\"([^\"]*)\"', symbol).group(1))]\n",
    "                measure_notes.append(f'z{duration}')\n",
    "\n",
    "            elif symbol.startswith('<multiRest'):\n",
    "                duration = re.search(r'num=\"([^\"]*)\"', symbol).group(1)\n",
    "                measure_notes.append(f'Z{duration}')\n",
    "\n",
    "        measures_content[i] = measure_notes\n",
    "\n",
    "    return measures_content\n"
   ]
  },
  {
   "cell_type": "code",
   "execution_count": 115,
   "metadata": {},
   "outputs": [],
   "source": [
    "gammes = {'0':'C', '1s':'G', '2s':'D', '3s':'A', '4s':'E', '5s':'B', '6s':'F#', '7s':'C#', '1f':'F', '2f':'Bb', '3f':'Eb', '4f':'Ab', '5f':'Db', '6f':'Gb', '7f':'Cb'}\n",
    "\n",
    "def find_score_def(file_content):\n",
    "    score_def = re.findall(r'<scoreDef[\\s\\S]*?scoreDef>', file_content)\n",
    "    key =  re.findall(r'key.sig=\"([^\"]*)\"', score_def[0])\n",
    "    meter_count = re.findall(r'meter.count=\"([^\"]*)\"', score_def[0])\n",
    "    meter_unit = re.findall(r'meter.unit=\"([^\"]*)\"', score_def[0])\n",
    "    staff_def = re.findall(r'<staffDef.*?/>', score_def[0])[0]\n",
    "\n",
    "    if meter_count and meter_unit:\n",
    "        meter_count, meter_unit = int(meter_count[0]), int(meter_unit[0])\n",
    "    else:\n",
    "        meter_count, meter_unit = '', ''\n",
    "    \n",
    "    if key : \n",
    "        key = gammes[key[0]]\n",
    "    else:\n",
    "        key = ''\n",
    "        \n",
    "    if staff_def:\n",
    "        clef_shape = re.findall(r'clef.shape=\"([^\"]*)\"', staff_def)[0]\n",
    "        clef_line = re.findall(r'clef.line=\"([^\"]*)\"', staff_def)[0]\n",
    "    else:\n",
    "        clef_shape = ''\n",
    "        clef_line = ''\n",
    "\n",
    "    score_def = {'key':key, 'meter_count': meter_count, 'meter_unit': meter_unit, 'clef': clef_shape+clef_line}\n",
    "    return score_def\n",
    "\n",
    "score_def = find_score_def(file_content)"
   ]
  },
  {
   "cell_type": "code",
   "execution_count": 116,
   "metadata": {},
   "outputs": [
    {
     "name": "stdout",
     "output_type": "stream",
     "text": [
      "X:1\n",
      "M:2/4\n",
      "K:Eb\n",
      "L:1/16\n",
      "K: clef=C1\n",
      " Z23 | z4 z2 b,2 | b,6 g,2 | e6 d2 | c2 c2 z4 |]\n"
     ]
    }
   ],
   "source": [
    "def mei_to_abc(measures_content, score_def):\n",
    "    abc_content = ''\n",
    "    abc_content += f'X:1\\n'\n",
    "    if score_def[\"meter_count\"] != '':\n",
    "        abc_content += f'M:{score_def[\"meter_count\"]}/{score_def[\"meter_unit\"]}\\n'\n",
    "    else:\n",
    "        abc_content += f'M:C\\n'\n",
    "    if score_def[\"key\"] != '':\n",
    "        abc_content += f'K:{score_def[\"key\"]}\\n'\n",
    "    abc_content += f'L:1/16\\n'\n",
    "    abc_content += f'K: clef={score_def[\"clef\"]}\\n'\n",
    "    for i in range (len(measures_content)):\n",
    "        measure = measures_content[i]\n",
    "        for note in measure:\n",
    "            abc_content += f' {note}'\n",
    "        abc_content += ' |'\n",
    "    abc_content += f']'\n",
    "    return abc_content\n",
    "\n",
    "abc_content = mei_to_abc(get_measures_labels(find_measures(file_content)), score_def)\n",
    "print(abc_content)"
   ]
  },
  {
   "cell_type": "code",
   "execution_count": 117,
   "metadata": {},
   "outputs": [],
   "source": [
    "def convert_file(file_content):\n",
    "    measures_content = find_measures(file_content)\n",
    "    score_def = find_score_def(file_content)\n",
    "    abc_content = mei_to_abc(get_measures_labels(measures_content), score_def)\n",
    "    return abc_content"
   ]
  },
  {
   "cell_type": "code",
   "execution_count": 118,
   "metadata": {},
   "outputs": [
    {
     "name": "stdout",
     "output_type": "stream",
     "text": [
      "X:1\n",
      "M:C\n",
      "L:1/16\n",
      "K: clef=C1\n",
      " e,4 | a,1b,1a,1b,1 b,3a,/b,/ c4 b,1c/d/c1b,1 | a,1a,1b,1c1 b,3a,1 ^g,3^f,1 e,2 |]\n"
     ]
    }
   ],
   "source": [
    "file_content = read_file('000051778-1_1_1.mei')\n",
    "abc = convert_file(file_content)\n",
    "\n",
    "print(abc)"
   ]
  },
  {
   "cell_type": "code",
   "execution_count": null,
   "metadata": {},
   "outputs": [
    {
     "name": "stdout",
     "output_type": "stream",
     "text": [
      "X:1\n",
      "M:3/4\n",
      "K:Eb\n",
      "L:1/16\n",
      "K: clef=G2\n",
      " b4 e2b2c'2b2 | a2a2 z1 a1g1a1 b1a1g1a1 |]\n",
      "X:1\n",
      "M:3/4\n",
      "K:Eb\n",
      "L:1/16\n",
      "K: clef=C1\n",
      " Z10 | b,4 e,2 e2 e2 c2 | a,2 a,2 z4 z4 | f4 e3 c1 b,3 a,1 | a,2 g,2 z4 |]\n",
      "X:1\n",
      "M:6/8\n",
      "L:1/16\n",
      "K: clef=C1\n",
      " Z14 | z4 z2 z4 g,2 | c4 z2 z4 z2 | z4 c2 e4 c2 | a,4 a,2 z4 z2 |]\n",
      "X:1\n",
      "M:C\n",
      "K:Eb\n",
      "L:1/16\n",
      "K: clef=C1\n",
      " Z4 | z8 g,2 g,1 g,1 g,2 =a,2 | =b,2 b,2 z2 b,2 b,2 b,2 =a,2 b,2 | g,4 |]\n",
      "X:1\n",
      "M:2/4\n",
      "K:Eb\n",
      "L:1/16\n",
      "K: clef=C1\n",
      " Z23 | z4 z2 b,2 | b,6 g,2 | e6 d2 | c2 c2 z4 |]\n"
     ]
    }
   ],
   "source": [
    "from zipfile import ZipFile, ZipInfo\n",
    "\n",
    "with ZipFile('data_mei/data.zip', 'r') as myzip:\n",
    "    for myfile in myzip.infolist()[:10]:\n",
    "        if myfile.filename.endswith('.mei'):\n",
    "            with myzip.open(myfile) as myfile:\n",
    "                file_content = myfile.read().decode('utf-8')\n",
    "                abc = convert_file(file_content)\n",
    "                print(abc)"
   ]
  }
 ],
 "metadata": {
  "kernelspec": {
   "display_name": "PicToMusic",
   "language": "python",
   "name": "python3"
  },
  "language_info": {
   "codemirror_mode": {
    "name": "ipython",
    "version": 3
   },
   "file_extension": ".py",
   "mimetype": "text/x-python",
   "name": "python",
   "nbconvert_exporter": "python",
   "pygments_lexer": "ipython3",
   "version": "3.10.12"
  }
 },
 "nbformat": 4,
 "nbformat_minor": 2
}
